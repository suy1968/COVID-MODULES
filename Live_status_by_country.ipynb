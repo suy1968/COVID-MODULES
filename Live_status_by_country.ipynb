{
 "cells": [
  {
   "cell_type": "code",
   "execution_count": 2,
   "metadata": {},
   "outputs": [
    {
     "name": "stdout",
     "output_type": "stream",
     "text": [
      "Collecting covid\n",
      "  Downloading covid-2.5.0.tar.gz (9.3 kB)\n",
      "  Installing build dependencies: started\n",
      "  Installing build dependencies: finished with status 'done'\n",
      "  Getting requirements to build wheel: started\n",
      "  Getting requirements to build wheel: finished with status 'done'\n",
      "    Preparing wheel metadata: started\n",
      "    Preparing wheel metadata: finished with status 'done'\n",
      "Requirement already satisfied: requests in c:\\users\\admin\\appdata\\local\\programs\\python\\python38\\lib\\site-packages (from covid) (2.23.0)\n",
      "Requirement already satisfied: typer in c:\\users\\admin\\appdata\\local\\programs\\python\\python38\\lib\\site-packages (from covid) (0.3.2)\n",
      "Requirement already satisfied: pydantic in c:\\users\\admin\\appdata\\local\\programs\\python\\python38\\lib\\site-packages (from covid) (1.7.4)\n",
      "Requirement already satisfied: beautifulsoup4 in c:\\users\\admin\\appdata\\local\\programs\\python\\python38\\lib\\site-packages (from covid) (4.9.1)\n",
      "Requirement already satisfied: soupsieve>1.2 in c:\\users\\admin\\appdata\\local\\programs\\python\\python38\\lib\\site-packages (from beautifulsoup4->covid) (2.0.1)\n",
      "Requirement already satisfied: idna<3,>=2.5 in c:\\users\\admin\\appdata\\local\\programs\\python\\python38\\lib\\site-packages (from requests->covid) (2.9)\n",
      "Requirement already satisfied: certifi>=2017.4.17 in c:\\users\\admin\\appdata\\local\\programs\\python\\python38\\lib\\site-packages (from requests->covid) (2020.4.5.1)\n",
      "Requirement already satisfied: chardet<4,>=3.0.2 in c:\\users\\admin\\appdata\\local\\programs\\python\\python38\\lib\\site-packages (from requests->covid) (3.0.4)\n",
      "Requirement already satisfied: urllib3!=1.25.0,!=1.25.1,<1.26,>=1.21.1 in c:\\users\\admin\\appdata\\local\\programs\\python\\python38\\lib\\site-packages (from requests->covid) (1.25.9)\n",
      "Requirement already satisfied: click<7.2.0,>=7.1.1 in c:\\users\\admin\\appdata\\local\\programs\\python\\python38\\lib\\site-packages (from typer->covid) (7.1.2)\n",
      "Building wheels for collected packages: covid\n",
      "  Building wheel for covid (PEP 517): started\n",
      "  Building wheel for covid (PEP 517): finished with status 'done'\n",
      "  Created wheel for covid: filename=covid-2.5.0-py3-none-any.whl size=10464 sha256=978037c2bf6bd5090a90ce3af04dc9cc17b97c1eedc4189bcd5f896f0004a84d\n",
      "  Stored in directory: c:\\users\\admin\\appdata\\local\\pip\\cache\\wheels\\f8\\ac\\b3\\ecadac920371b6552f274064065be7268c243a652cf21b34df\n",
      "Successfully built covid\n",
      "Installing collected packages: covid\n",
      "Successfully installed covid-2.5.0\n"
     ]
    },
    {
     "name": "stderr",
     "output_type": "stream",
     "text": [
      "WARNING: Ignoring invalid distribution -atplotlib (c:\\users\\admin\\appdata\\local\\programs\\python\\python38\\lib\\site-packages)\n",
      "WARNING: Ignoring invalid distribution -atplotlib (c:\\users\\admin\\appdata\\local\\programs\\python\\python38\\lib\\site-packages)\n",
      "WARNING: Ignoring invalid distribution -atplotlib (c:\\users\\admin\\appdata\\local\\programs\\python\\python38\\lib\\site-packages)\n",
      "WARNING: Ignoring invalid distribution -atplotlib (c:\\users\\admin\\appdata\\local\\programs\\python\\python38\\lib\\site-packages)\n",
      "WARNING: Ignoring invalid distribution -atplotlib (c:\\users\\admin\\appdata\\local\\programs\\python\\python38\\lib\\site-packages)\n",
      "WARNING: Ignoring invalid distribution -atplotlib (c:\\users\\admin\\appdata\\local\\programs\\python\\python38\\lib\\site-packages)\n",
      "WARNING: Ignoring invalid distribution -atplotlib (c:\\users\\admin\\appdata\\local\\programs\\python\\python38\\lib\\site-packages)\n",
      "WARNING: You are using pip version 21.1.2; however, version 21.1.3 is available.\n",
      "You should consider upgrading via the 'c:\\users\\admin\\appdata\\local\\programs\\python\\python38\\python.exe -m pip install --upgrade pip' command.\n"
     ]
    }
   ],
   "source": [
    "!pip install covid"
   ]
  },
  {
   "cell_type": "code",
   "execution_count": 3,
   "metadata": {},
   "outputs": [
    {
     "name": "stdout",
     "output_type": "stream",
     "text": [
      "\n",
      "Enter country name  :India\n",
      "{'id': '80', 'country': 'India', 'confirmed': 31026829, 'active': 430422, 'deaths': 412531, 'recovered': 30183876, 'latitude': 20.593684, 'longitude': 78.96288, 'last_update': 1626474125000}\n"
     ]
    }
   ],
   "source": [
    "import time\n",
    "\n",
    "from covid import Covid\n",
    "\n",
    "covid = Covid()\n",
    "\n",
    "country = input(\"\\nEnter country name  :\")\n",
    "\n",
    "data = covid.get_status_by_country_name(country.lower())\n",
    "print(data)\n",
    "time.sleep(5)"
   ]
  },
  {
   "cell_type": "code",
   "execution_count": null,
   "metadata": {},
   "outputs": [],
   "source": []
  }
 ],
 "metadata": {
  "kernelspec": {
   "display_name": "Python 3",
   "language": "python",
   "name": "python3"
  },
  "language_info": {
   "codemirror_mode": {
    "name": "ipython",
    "version": 3
   },
   "file_extension": ".py",
   "mimetype": "text/x-python",
   "name": "python",
   "nbconvert_exporter": "python",
   "pygments_lexer": "ipython3",
   "version": "3.8.1"
  }
 },
 "nbformat": 4,
 "nbformat_minor": 4
}
